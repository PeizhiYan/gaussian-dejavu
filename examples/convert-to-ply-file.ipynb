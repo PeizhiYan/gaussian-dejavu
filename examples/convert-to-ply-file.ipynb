{
 "cells": [
  {
   "cell_type": "markdown",
   "id": "080c4733",
   "metadata": {},
   "source": [
    "## Note that, this code is experimental\n",
    "\n",
    "You can import the generated .ply file to a 3DGS viewer to view it.\n",
    "\n",
    "If you use this web-based 3DGS viewer: https://projects.markkellogg.org/threejs/demo_gaussian_splats_3d.php \n",
    "The recommanded initial camera settings are:\n",
    "- Camera up: \t      0,1,0\n",
    "- Camera position:    -1,100,500\n",
    "- Camera look-at:     0,1,0\n"
   ]
  },
  {
   "cell_type": "code",
   "execution_count": null,
   "id": "b8d482f5-58ae-46d4-83e4-dffbd8f618d3",
   "metadata": {},
   "outputs": [
    {
     "name": "stdout",
     "output_type": "stream",
     "text": [
      "Current Working Directory:  /home/peizhi/Documents/gaussian-dejavu\n",
      "creating the FLAME Decoder\n"
     ]
    },
    {
     "name": "stderr",
     "output_type": "stream",
     "text": [
      "/home/peizhi/Documents/gaussian-dejavu/utils/flame_lib/FLAME.py:81: UserWarning: To copy construct from a tensor, it is recommended to use sourceTensor.clone().detach() or sourceTensor.clone().detach().requires_grad_(True), rather than torch.tensor(sourceTensor).\n",
      "  self.register_buffer('dynamic_lmk_faces_idx', torch.tensor(lmk_embeddings['dynamic_lmk_faces_idx'], dtype=torch.long))\n",
      "/home/peizhi/Documents/gaussian-dejavu/utils/flame_lib/FLAME.py:82: UserWarning: To copy construct from a tensor, it is recommended to use sourceTensor.clone().detach() or sourceTensor.clone().detach().requires_grad_(True), rather than torch.tensor(sourceTensor).\n",
      "  self.register_buffer('dynamic_lmk_bary_coords', torch.tensor(lmk_embeddings['dynamic_lmk_bary_coords'], dtype=self.dtype))\n",
      "/home/peizhi/miniconda3/envs/dejavu/lib/python3.10/site-packages/pytorch3d/io/obj_io.py:550: UserWarning: Mtl file does not exist: ./models/head_template2.mtl\n",
      "  warnings.warn(f\"Mtl file does not exist: {f}\")\n"
     ]
    },
    {
     "name": "stdout",
     "output_type": "stream",
     "text": [
      "Framework v3.1 initialized.\n",
      "Number of Gaussians:  10694\n",
      "model loaded from:  ./models/dejavu_network.pt\n",
      "Gaussian DejaVu Framework Created.\n",
      "Head avatar parameters loaded\n",
      "Size of UV Gaussian map changed to 180x180\n",
      "Number of Gaussians:  23873\n"
     ]
    }
   ],
   "source": [
    "## Enviroment Setup\n",
    "import os, sys\n",
    "os.environ['CUDA_VISIBLE_DEVICES'] = '0' # Set the visible CUDA, here we use the second GPU\n",
    "WORKING_DIR = '/home/peizhi/Documents/gaussian-dejavu/'\n",
    "os.chdir(WORKING_DIR) # change the working directory to the project's absolute path\n",
    "print(\"Current Working Directory: \", os.getcwd())\n",
    "sys.path.append(WORKING_DIR)\n",
    "sys.path.append('./models')\n",
    "sys.path.append('./networks')\n",
    "sys.path.append('./utils')\n",
    "sys.path.append('./utils/flame_lib/')\n",
    "sys.path.append('./utils/diff-gaussian-rasterization')\n",
    "sys.path.append('./utils/gaussian_renderer')\n",
    "sys.path.append('./utils/scene')\n",
    "sys.path.append('./utils/arguments')\n",
    "sys.path.append('./utils/simple-knn')\n",
    "\n",
    "import matplotlib.pyplot as plt\n",
    "from time import time\n",
    "from tqdm import tqdm\n",
    "\n",
    "import numpy as np\n",
    "import cv2\n",
    "import torch\n",
    "# import torch.nn as nn\n",
    "# import torch.nn.functional as F\n",
    "# from torchvision.transforms import Resize\n",
    "# import math\n",
    "# from torch.optim.lr_scheduler import StepLR\n",
    "\n",
    "# # Dejavu\n",
    "# from models.gaussian_dejavu_base import Framework\n",
    "# from utils.loss import *\n",
    "# from utils.scene.cameras import PerspectiveCamera, prepare_camera\n",
    "# from utils.viewer_utils import OrbitCamera\n",
    "# from utils.gaussian_renderer import render\n",
    "# from utils.graphics_utils import create_diff_world_to_view_matrix, verts_clip_to_ndc\n",
    "# from utils.loss_utils import *\n",
    "\n",
    "# ## FLAME\n",
    "# from utils.flame_lib import dict2obj\n",
    "# from utils.flame_lib.FLAME import FLAME\n",
    "\n",
    "import struct\n",
    "\n",
    "\n",
    "# GUI\n",
    "from ipywidgets import interactive, interact, Layout\n",
    "from ipywidgets import FloatSlider\n",
    "from ipywidgets import IntSlider\n",
    "from ipywidgets import HBox, VBox, Label, Button\n",
    "\n",
    "\n",
    "from dejavu import GaussianDejavu\n",
    "from utils.personal_video_utils import *\n",
    "\n",
    "def min_max_normalize(image):\n",
    "    norm_image = (image - np.min(image)) / (np.max(image) - np.min(image))\n",
    "    return norm_image\n",
    "\n",
    "dejavu = GaussianDejavu(network_weights='./models/dejavu_network.pt', uv_map_size=120, num_expressions=20)\n",
    "\n",
    "device = dejavu.device\n",
    "\n",
    "\n",
    "## load head avatar\n",
    "\n",
    "dejavu.load_head_avatar(save_path='./saved_avatars', avatar_name='peizhi-uv180')\n",
    "#dejavu.load_head_avatar(save_path='./saved_avatars', avatar_name='imavatar-subject1-uv180')\n",
    "#dejavu.load_head_avatar(save_path='./saved_avatars', avatar_name='imavatar-subject2-uv180')\n",
    "\n"
   ]
  },
  {
   "cell_type": "code",
   "execution_count": null,
   "id": "6e0008d4",
   "metadata": {},
   "outputs": [
    {
     "name": "stdout",
     "output_type": "stream",
     "text": [
      "(23873, 3) (23873, 4) (23873, 3) (23873, 3) (23873, 1)\n"
     ]
    }
   ],
   "source": [
    "\n",
    "\n",
    "rendered, gaussians = dejavu.drive_head_avatar(exp = None, pose = None, eye_pose = None, cam_pose = None, return_gaussians = True)\n",
    "\n",
    "xyz = gaussians[0].get_xyz.detach().cpu().numpy() * 900\n",
    "rotation = gaussians[0].get_rotation.detach().cpu().numpy()[:, :4]\n",
    "scale = gaussians[0].get_scaling.detach().cpu().numpy() * 180\n",
    "sh = gaussians[0].get_features.detach().cpu().numpy()[:,0,:] # RGB colors instead of SH coefficients\n",
    "opacity = gaussians[0].get_opacity.detach().cpu().numpy()\n",
    "\n",
    "color = sh\n",
    "\n",
    "print(xyz.shape, rotation.shape, scale.shape, sh.shape, opacity.shape)\n",
    "\n"
   ]
  },
  {
   "cell_type": "code",
   "execution_count": null,
   "id": "51bdee50",
   "metadata": {},
   "outputs": [
    {
     "name": "stdout",
     "output_type": "stream",
     "text": [
      "PLY file saved: ./gaussians.ply\n"
     ]
    }
   ],
   "source": [
    "\n",
    "\n",
    "N = xyz.shape[0]  # Number of points\n",
    "\n",
    "ply_file = './gaussians.ply'\n",
    "\n",
    "\"\"\"\n",
    "# Write PLY file in ASCII format\n",
    "with open(ply_file, \"w\") as f:\n",
    "    # PLY header\n",
    "    f.write(\"ply\\n\")\n",
    "    f.write(\"format ascii 1.0\\n\")\n",
    "    f.write(f\"element vertex {N}\\n\")\n",
    "    f.write(\"property float x\\n\")\n",
    "    f.write(\"property float y\\n\")\n",
    "    f.write(\"property float z\\n\")\n",
    "    f.write(\"property float qw\\n\")\n",
    "    f.write(\"property float qx\\n\")\n",
    "    f.write(\"property float qy\\n\")\n",
    "    f.write(\"property float qz\\n\")\n",
    "    f.write(\"property float sx\\n\")\n",
    "    f.write(\"property float sy\\n\")\n",
    "    f.write(\"property float sz\\n\")\n",
    "    f.write(\"property uchar red\\n\")\n",
    "    f.write(\"property uchar green\\n\")\n",
    "    f.write(\"property uchar blue\\n\")\n",
    "    f.write(\"property uchar alpha\\n\")  # Opacity\n",
    "    f.write(\"end_header\\n\")\n",
    "\n",
    "    # Write each Gaussian to the file\n",
    "    for i in range(N):\n",
    "        f.write(f\"{xyz[i, 0]} {xyz[i, 1]} {xyz[i, 2]} \"  # XYZ\n",
    "                f\"{rotation[i, 0]} {rotation[i, 1]} {rotation[i, 2]} {rotation[i, 3]} \"  # Quaternion\n",
    "                f\"{scale[i, 0]} {scale[i, 1]} {scale[i, 2]} \"  # Scaling factors\n",
    "                f\"{color[i, 0]} {color[i, 1]} {color[i, 2]} {opacity[i]}\\n\")  # RGB + Opacity\n",
    "\n",
    "print(f\"PLY file saved: {ply_file}\")\n",
    "\"\"\"\n",
    "\n",
    "\n",
    "# Define the PLY header (binary little-endian)\n",
    "ply_header = f\"\"\"ply\n",
    "format binary_little_endian 1.0\n",
    "comment Created in Python\n",
    "element vertex {N}\n",
    "property float x\n",
    "property float y\n",
    "property float z\n",
    "property float f_dc_0\n",
    "property float f_dc_1\n",
    "property float f_dc_2\n",
    "property float opacity\n",
    "property float scale_0\n",
    "property float scale_1\n",
    "property float scale_2\n",
    "property float rot_0\n",
    "property float rot_1\n",
    "property float rot_2\n",
    "property float rot_3\n",
    "end_header\n",
    "\"\"\".encode(\"utf-8\")\n",
    "\n",
    "# Open the file in binary mode\n",
    "with open(ply_file, \"wb\") as f:\n",
    "    # Write header\n",
    "    f.write(ply_header)\n",
    "\n",
    "    # Write binary data (little-endian format)\n",
    "    for i in range(N):\n",
    "        f.write(struct.pack(\"<3f\", *xyz[i]))       # x, y, z\n",
    "        f.write(struct.pack(\"<3f\", *color[i]))      # f_dc_0, f_dc_1, f_dc_2\n",
    "        f.write(struct.pack(\"<f\", opacity[i][0])) # opacity\n",
    "        f.write(struct.pack(\"<3f\", *scale[i]))     # scale_0, scale_1, scale_2\n",
    "        f.write(struct.pack(\"<4f\", *rotation[i]))  # rot_0, rot_1, rot_2, rot_3\n",
    "\n",
    "print(f\"PLY file saved: {ply_file}\")"
   ]
  }
 ],
 "metadata": {
  "kernelspec": {
   "display_name": "dejavu",
   "language": "python",
   "name": "python3"
  },
  "language_info": {
   "codemirror_mode": {
    "name": "ipython",
    "version": 3
   },
   "file_extension": ".py",
   "mimetype": "text/x-python",
   "name": "python",
   "nbconvert_exporter": "python",
   "pygments_lexer": "ipython3",
   "version": "3.10.14"
  }
 },
 "nbformat": 4,
 "nbformat_minor": 5
}
