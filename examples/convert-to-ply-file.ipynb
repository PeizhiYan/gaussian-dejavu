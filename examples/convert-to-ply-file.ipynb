{
 "cells": [
  {
   "cell_type": "markdown",
   "id": "080c4733",
   "metadata": {},
   "source": [
    "\n",
    "You can import the generated .ply file to a 3DGS viewer to view it.\n",
    "\n",
    "If you use this web-based 3DGS viewer: https://projects.markkellogg.org/threejs/demo_gaussian_splats_3d.php \n",
    "The recommanded initial camera settings are:\n",
    "\n",
    "- Camera up: \t        0,1,0\n",
    "- Camera look-at:\t\t0.05347, -0.15251, -0.64450\n",
    "- Camera position:\t\t0.00715, 0.17817, 0.71167\n"
   ]
  },
  {
   "cell_type": "code",
   "execution_count": 1,
   "id": "b8d482f5-58ae-46d4-83e4-dffbd8f618d3",
   "metadata": {},
   "outputs": [
    {
     "name": "stdout",
     "output_type": "stream",
     "text": [
      "Current Working Directory:  /home/peizhi/Documents/gaussian-dejavu\n",
      "creating the FLAME Decoder\n"
     ]
    },
    {
     "name": "stderr",
     "output_type": "stream",
     "text": [
      "/home/peizhi/Documents/gaussian-dejavu/utils/flame_lib/FLAME.py:81: UserWarning: To copy construct from a tensor, it is recommended to use sourceTensor.clone().detach() or sourceTensor.clone().detach().requires_grad_(True), rather than torch.tensor(sourceTensor).\n",
      "  self.register_buffer('dynamic_lmk_faces_idx', torch.tensor(lmk_embeddings['dynamic_lmk_faces_idx'], dtype=torch.long))\n",
      "/home/peizhi/Documents/gaussian-dejavu/utils/flame_lib/FLAME.py:82: UserWarning: To copy construct from a tensor, it is recommended to use sourceTensor.clone().detach() or sourceTensor.clone().detach().requires_grad_(True), rather than torch.tensor(sourceTensor).\n",
      "  self.register_buffer('dynamic_lmk_bary_coords', torch.tensor(lmk_embeddings['dynamic_lmk_bary_coords'], dtype=self.dtype))\n",
      "/home/peizhi/miniconda3/envs/dejavu/lib/python3.10/site-packages/pytorch3d/io/obj_io.py:550: UserWarning: Mtl file does not exist: ./models/head_template2.mtl\n",
      "  warnings.warn(f\"Mtl file does not exist: {f}\")\n"
     ]
    },
    {
     "name": "stdout",
     "output_type": "stream",
     "text": [
      "Framework v3.1 initialized.\n",
      "Number of Gaussians:  10694\n",
      "model loaded from:  ./models/dejavu_network.pt\n",
      "Gaussian DejaVu Framework Created.\n",
      "Head avatar parameters loaded\n",
      "Size of UV Gaussian map changed to 180x180\n",
      "Number of Gaussians:  23873\n"
     ]
    }
   ],
   "source": [
    "## Enviroment Setup\n",
    "import os, sys\n",
    "os.environ['CUDA_VISIBLE_DEVICES'] = '0' # Set the visible CUDA, here we use the second GPU\n",
    "WORKING_DIR = '/home/peizhi/Documents/gaussian-dejavu/'\n",
    "os.chdir(WORKING_DIR) # change the working directory to the project's absolute path\n",
    "print(\"Current Working Directory: \", os.getcwd())\n",
    "sys.path.append(WORKING_DIR)\n",
    "sys.path.append('./models')\n",
    "sys.path.append('./networks')\n",
    "sys.path.append('./utils')\n",
    "sys.path.append('./utils/flame_lib/')\n",
    "sys.path.append('./utils/diff-gaussian-rasterization')\n",
    "sys.path.append('./utils/gaussian_renderer')\n",
    "sys.path.append('./utils/scene')\n",
    "sys.path.append('./utils/arguments')\n",
    "sys.path.append('./utils/simple-knn')\n",
    "\n",
    "import matplotlib.pyplot as plt\n",
    "from time import time\n",
    "from tqdm import tqdm\n",
    "\n",
    "import numpy as np\n",
    "import cv2\n",
    "import torch\n",
    "# import torch.nn as nn\n",
    "# import torch.nn.functional as F\n",
    "# from torchvision.transforms import Resize\n",
    "# import math\n",
    "# from torch.optim.lr_scheduler import StepLR\n",
    "\n",
    "# # Dejavu\n",
    "# from models.gaussian_dejavu_base import Framework\n",
    "# from utils.loss import *\n",
    "# from utils.scene.cameras import PerspectiveCamera, prepare_camera\n",
    "# from utils.viewer_utils import OrbitCamera\n",
    "# from utils.gaussian_renderer import render\n",
    "# from utils.graphics_utils import create_diff_world_to_view_matrix, verts_clip_to_ndc\n",
    "# from utils.loss_utils import *\n",
    "\n",
    "# ## FLAME\n",
    "# from utils.flame_lib import dict2obj\n",
    "# from utils.flame_lib.FLAME import FLAME\n",
    "\n",
    "import struct\n",
    "\n",
    "\n",
    "# GUI\n",
    "from ipywidgets import interactive, interact, Layout\n",
    "from ipywidgets import FloatSlider\n",
    "from ipywidgets import IntSlider\n",
    "from ipywidgets import HBox, VBox, Label, Button\n",
    "\n",
    "\n",
    "from dejavu import GaussianDejavu\n",
    "from utils.personal_video_utils import *\n",
    "\n",
    "def min_max_normalize(image):\n",
    "    norm_image = (image - np.min(image)) / (np.max(image) - np.min(image))\n",
    "    return norm_image\n",
    "\n",
    "dejavu = GaussianDejavu(network_weights='./models/dejavu_network.pt', uv_map_size=120, num_expressions=20)\n",
    "\n",
    "device = dejavu.device\n",
    "\n",
    "\n",
    "## load head avatar\n",
    "\n",
    "dejavu.load_head_avatar(save_path='./saved_avatars', avatar_name='peizhi-uv180')\n",
    "#dejavu.load_head_avatar(save_path='./saved_avatars', avatar_name='imavatar-subject1-uv180')\n",
    "#dejavu.load_head_avatar(save_path='./saved_avatars', avatar_name='imavatar-subject2-uv180')\n",
    "\n"
   ]
  },
  {
   "cell_type": "code",
   "execution_count": null,
   "id": "1f00d4e0",
   "metadata": {},
   "outputs": [],
   "source": [
    "path = './saved_gaussians.ply'\n",
    "\n",
    "# drive head avatar (exp = None for neutral expression)\n",
    "rendered, gaussians = dejavu.drive_head_avatar(exp = None, pose = None, eye_pose = None, cam_pose = None, return_gaussians = True)\n",
    "\n",
    "# save to .ply\n",
    "gaussians[0].save_ply(path)\n",
    "\n",
    "\"\"\"\n",
    "Note: If you use this online viewer https://projects.markkellogg.org/threejs/demo_gaussian_splats_3d.php \n",
    "please use the following camera parameters:\n",
    "Camera up: \t        0,1,0\n",
    "Camera look-at:\t\t0.05347, -0.15251, -0.64450\n",
    "Camera position:\t0.00715, 0.17817, 0.71167\n",
    "\"\"\"\n"
   ]
  }
 ],
 "metadata": {
  "kernelspec": {
   "display_name": "dejavu",
   "language": "python",
   "name": "python3"
  },
  "language_info": {
   "codemirror_mode": {
    "name": "ipython",
    "version": 3
   },
   "file_extension": ".py",
   "mimetype": "text/x-python",
   "name": "python",
   "nbconvert_exporter": "python",
   "pygments_lexer": "ipython3",
   "version": "3.10.14"
  }
 },
 "nbformat": 4,
 "nbformat_minor": 5
}
