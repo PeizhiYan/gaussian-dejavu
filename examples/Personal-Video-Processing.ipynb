{
 "cells": [
  {
   "cell_type": "code",
   "execution_count": null,
   "id": "f5137f06-8336-4340-b37e-51eda2edd4c7",
   "metadata": {},
   "outputs": [
    {
     "name": "stdout",
     "output_type": "stream",
     "text": [
      "Current Working Directory:  /home/peizhi/Documents/flame-head-tracker\n",
      "Jupyter environment detected. Enabling Open3D WebVisualizer.\n",
      "[Open3D INFO] WebRTC GUI backend enabled.\n",
      "[Open3D INFO] WebRTCWindowSystem: HTTP handshake server disabled.\n"
     ]
    }
   ],
   "source": [
    "\"\"\"\n",
    "Please use flame-head-tracker v4.1 (lower versions not supported!)\n",
    "https://github.com/PeizhiYan/flame-head-tracker/tree/v4.1\n",
    "\"\"\"\n",
    "\n",
    "## Enviroment Setup\n",
    "import os, sys\n",
    "WORKING_DIR = '/home/peizhi/Documents/flame-head-tracker' # download the flame-head-tracker from github\n",
    "os.chdir(WORKING_DIR) # change the working directory to the project's absolute path\n",
    "print(\"Current Working Directory: \", os.getcwd())\n",
    "\n",
    "## Computing Device\n",
    "device = 'cuda:0'\n",
    "import torch\n",
    "torch.cuda.set_device(device) # this will solve the problem that OpenGL not on the same device with torch tensors\n",
    "\n",
    "sys.path.append(WORKING_DIR)\n",
    "sys.path.append('./utils/flame_lib/')\n",
    "sys.path.append('./utils/flame_fitting/')\n",
    "sys.path.append('./utils/face_parsing/')\n",
    "sys.path.append('./utils/decalib/')\n",
    "sys.path.append('./utils/mesh_renderer')\n",
    "sys.path.append('./utils/scene')\n",
    "\n",
    "from time import time\n",
    "\n",
    "from tracker_video import track_video          # faster than the legacy code, save at the end\n",
    "\n"
   ]
  },
  {
   "cell_type": "code",
   "execution_count": null,
   "id": "5a59dc29-3e26-4ea0-8841-e7d470313125",
   "metadata": {},
   "outputs": [
    {
     "name": "stdout",
     "output_type": "stream",
     "text": [
      "[Errno 17] File exists: '/mnt/data4_hdd/peizhi/Datasets/inhouse-blendshapes/Peizhi-Demo-v4.1/'\n"
     ]
    }
   ],
   "source": [
    "\n",
    "personal_video_path = '/mnt/data4_hdd/peizhi/Datasets/inhouse-blendshapes/IMG_3198.mp4'  # video file path\n",
    "save_path = f'/mnt/data4_hdd/peizhi/Datasets/inhouse-blendshapes/Peizhi-Demo-v4.1/'\n",
    "\n",
    "# Cartoon video example\n",
    "# personal_video_path = '/home/peizhi/Desktop/iso/VToonify/output/IMG_3198_vtoonify_d-style-02.mp4'  # video file path (video stylized by VToonify)\n",
    "# save_path = f'/mnt/data3_hdd/peizhi/Datasets/Personal_Videos_flame_new/peizhi-cartoon-3.4/'\n",
    "\n",
    "# create save path\n",
    "try: \n",
    "    os.makedirs(save_path)\n",
    "except Exception as e:\n",
    "    print(e)\n",
    "\n",
    "\n",
    "tracker_cfg = {\n",
    "    # settings for tracker base\n",
    "    'mediapipe_face_landmarker_v2_path': './models/face_landmarker.task',\n",
    "    'flame_model_path': './models/FLAME2020/generic_model.pkl',\n",
    "    'flame_lmk_embedding_path': './models/landmark_embedding.npy',\n",
    "    'ear_landmarker_path': './models/ear_landmarker.pth', # NOTE: this line is optional\n",
    "    'tex_space_path': './models/FLAME_albedo_from_BFM.npz',\n",
    "    'face_parsing_model_path': './models/79999_iter.pth',\n",
    "    'template_mesh_file_path': './models/head_template.obj',\n",
    "    'result_img_size': 512,\n",
    "    'use_matting': True,                    # use image/video matting to remove background\n",
    "    'optimize_fov': False,                  # whether to optimize the camera FOV, NOTE: experimental feature\n",
    "    'device': device,\n",
    "\n",
    "    # settings for video tracking\n",
    "    'original_fps': 60,                     # input video fps\n",
    "    'subsample_fps': 30,                    # subsample (fps <= input fps)\n",
    "    'photometric_fitting': True,            # True: use photometric fitting (slower); False: use landmark-fitting (faster) \n",
    "    'video_path': personal_video_path,      # example video file path\n",
    "    'save_path': save_path,                 # tracking result save path\n",
    "    'batch_size': 16,                       # you can change it based on your GPU's capability (e.g., Nvidia 4090 supports 32 in photometric fitting mode)\n",
    "\n",
    "    'realign': True,    # NOTE! only when your video has squared frames and the face is alredy roughly centered, you can set this to False\n",
    "}\n",
    "\n",
    "\n",
    "## Note that, the first frame will take longer time to process\n",
    "dt = time()\n",
    "track_video(tracker_cfg)\n",
    "print(f\"time used: {(time() - dt) / 60} minutes\")\n"
   ]
  },
  {
   "cell_type": "code",
   "execution_count": null,
   "id": "fa50666f",
   "metadata": {},
   "outputs": [],
   "source": []
  }
 ],
 "metadata": {
  "kernelspec": {
   "display_name": "tracker",
   "language": "python",
   "name": "python3"
  },
  "language_info": {
   "codemirror_mode": {
    "name": "ipython",
    "version": 3
   },
   "file_extension": ".py",
   "mimetype": "text/x-python",
   "name": "python",
   "nbconvert_exporter": "python",
   "pygments_lexer": "ipython3",
   "version": "3.10.14"
  }
 },
 "nbformat": 4,
 "nbformat_minor": 5
}
